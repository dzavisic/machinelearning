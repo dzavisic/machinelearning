{
 "cells": [
  {
   "cell_type": "markdown",
   "metadata": {},
   "source": [
    "# Vježbe 3 - drugi dio\n",
    "\n",
    "Thee essence of supervised machine learning is the creation of mechanisms that can look at exam-ples and produce generalizations. More concretely, rather than designing an algorithm to performa task (“distinguish spam from non-spam email”), we design an algorithm whose input is a set of labeled examples (“This pile of emails are spam. This other pile of emails are not spam.”), and its output is a function (or a program) that receives an instance (an email) and produces the desired label (spam or not-spam). It is expected that the resulting function will produce correct label predictions also for instances it has not seen during training.\n",
    "\n",
    "                                                             Neural Network Methods in Natural Language Processing - Y.Goldberg\n",
    "\n",
    "---\n",
    "---\n",
    "1. Ponavljanje: SVM\n",
    "1. Upoznavanje i rad s SVM implementacijom u scikit-learn-u\n",
    "    - Način 1\n",
    "    - Način 2\n",
    "    - Razlike između LinearSVC() i SVC(kernel=\"linear\")\n",
    "\n",
    "3. Ponavljanje: Logistička regresija\n"
   ]
  },
  {
   "cell_type": "code",
   "execution_count": 1,
   "metadata": {},
   "outputs": [],
   "source": [
    "from sklearn.svm import SVC, LinearSVC\n",
    "import matplotlib.pyplot as plt\n",
    "from sklearn.datasets import make_blobs\n",
    "import numpy as np\n",
    "from sklearn.model_selection import train_test_split\n",
    "from sklearn.linear_model import LogisticRegression"
   ]
  },
  {
   "cell_type": "markdown",
   "metadata": {},
   "source": [
    "---\n",
    "## 1.  Ponavljanje: SVM\n",
    "---"
   ]
  },
  {
   "cell_type": "markdown",
   "metadata": {},
   "source": [
    "- pretpostavka: podaci su linearno separabilni\n",
    "- tražimo: hiperravninu koja razdvaja podatke\n",
    "- što bi htjeli: pronaći hiperravninu sa što većom geomtrijskom marginom\n",
    "- formalno postavljamo optimizacijski problem: maksimiziraj geometrijsku ravninu\n",
    "- osim toga, uvjet je: neka svi podaci budu ispravno klasificirani tj. $y^{(i)}\\theta^T x^{(i)} \\geq \\gamma \\; \\forall i = 1, 2, \\cdots, m$\n",
    "- što je bio $\\gamma$? Kod perceptrona smo pretpostavili da možemo naći neki $\\gamma > 0$ takav da je $y^{(i)}\\theta ^T x^{(i)} \\geq \\gamma > 0$ što znači da su svi podaci ispravno klasificirani\n",
    "\n",
    "$$maksimiziraj\\; \\frac{\\gamma}{|| \\theta||} \\iff minimiziraj\\; \\frac{||\\theta||}{\\gamma} \\iff minimiziraj\\; \\frac{1}{2}(\\frac{||\\theta||}{\\gamma})^2$$\n",
    "- sve zajedno formuliramo sljedeći optimizacijski problem:\n",
    "$$\\text{minimiziraj } \\frac{1}{2}(\\frac{||\\theta||}{\\gamma})^2 $$ $$\\text{  uz uvjet  } y^{(i)}\\theta^T x^{(i)} \\geq \\gamma  \\; \\forall i = 1, 2, \\cdots, m$$\n",
    "\n",
    "- izraz možemo pojednostaviti na \n",
    "$$\\text{minimiziraj } \\frac{1}{2}||\\theta||^2 $$ $$\\text{  uz uvjet  } y^{(i)}\\theta^T x^{(i)} \\geq 1  \\; \\forall i = 1, 2, \\cdots, m$$\n"
   ]
  },
  {
   "cell_type": "markdown",
   "metadata": {},
   "source": [
    "##### Generalizacija formule na hiperravninu koja ne prolazi kroz ishodište\n",
    "- optimizacijski problem postaje\n",
    "$$\\text{minimiziraj } \\frac{1}{2}||\\theta||^2 $$ $$\\text{  uz uvjet  } y^{(i)}(\\theta^T x^{(i)}+\\theta_0) \\geq 1  \\; \\forall i = 1, 2, \\cdots, m$$\n",
    "\n",
    "##### Relaksacija uvjeta: dopuštanje krivo klasificiranih podataka\n",
    "- jednostavan način za dopuštanje krivo klasificiranih podataka je uvođenjem *slack* varijable\n",
    "- mjerimo koliko je uvjet narušen, to narušavanje minimiziramo\n",
    "$$\\text{minimiziraj } \\frac{1}{2}||\\theta||^2 + C\\sum\\limits_{i=1}^m \\xi_i $$ \n",
    "$$\\text{  uz uvjet  } y^{(i)}\\theta^T x^{(i)} \\geq 1 - \\xi_i \\text{ i } \\xi_i \\geq 0 \\; \\forall i = 1, 2, \\cdots, m$$\n"
   ]
  },
  {
   "cell_type": "code",
   "execution_count": 90,
   "metadata": {},
   "outputs": [],
   "source": [
    "########################################################\n",
    "# Pomocna funkcija za crtanje vektora normale i hiperravnine\n",
    "\n",
    "def plot_hyperplane(theta, theta0, X,y):\n",
    "    # Uzmimo jedan jednostavan primjer za theta i nacrtajmo ga\n",
    "    theta2 = theta[1]\n",
    "    theta1 = theta[0]\n",
    "    theta0 = theta0\n",
    "    theta = np.array([theta1,theta2]).reshape(-1,1)\n",
    "\n",
    "\n",
    "    xx = np.random.uniform(-10,5,(50,1))\n",
    "    yy = -xx*(theta1/theta2) - (theta0/theta2)\n",
    "\n",
    "    plt.plot(xx,yy, color='darkblue', label='Pravac')\n",
    "   \n",
    "    # Nacrtajmo vektor normalne theta\n",
    " \n",
    "    plt.quiver(*[xx[8], yy[8]], *theta, color=['deeppink'], scale=1, label='theta')\n",
    "\n",
    "    plt.scatter(X[:,0], X[:,1], c = y, cmap='PiYG')\n",
    "\n",
    "    \n",
    "    plt.legend()\n",
    "    plt.gca().set_aspect('equal')  \n",
    "    plt.show()\n",
    "    ############################"
   ]
  },
  {
   "cell_type": "code",
   "execution_count": null,
   "metadata": {},
   "outputs": [],
   "source": [
    "# Neka su danm dani podaci\n",
    "X,y = make_blobs(n_samples = 10, n_features = 2, centers = 2, random_state=9)\n",
    "y = np.array([-1 if i ==0 else 1 for i in y])\n",
    "plt.scatter(X[:,0], X[:,1], c = y)\n",
    "plt.show()"
   ]
  },
  {
   "cell_type": "code",
   "execution_count": 91,
   "metadata": {},
   "outputs": [
    {
     "data": {
      "image/png": "[encoded data removed]",
      "text/plain": [
       "<Figure size 432x288 with 1 Axes>"
      ]
     },
     "metadata": {
      "needs_background": "light"
     },
     "output_type": "display_data"
    }
   ],
   "source": [
    "# Zadan je theta* ()\n",
    "theta = np.array([0.15, -0.08])\n",
    "theta0 = 0.51\n",
    "plot_hyperplane(theta, theta0, X,y)"
   ]
  },
  {
   "cell_type": "code",
   "execution_count": null,
   "metadata": {},
   "outputs": [],
   "source": [
    "min_udaljenost = 10000\n",
    "for i,podatak in enumerate(X):\n",
    "    if  y[i]*(podatak.dot(theta)+theta0) < min_udaljenost:\n",
    "        min_udaljenost = y[i]*(podatak.dot(theta)+theta0)\n",
    "    print(y[i]*(podatak.dot(theta)+theta0), podatak)"
   ]
  },
  {
   "cell_type": "markdown",
   "metadata": {},
   "source": [
    "---\n",
    "## 2.  Upoznavanje i rad s SVM implementacijom u scikit-learn-u\n",
    "---\n",
    "Zadan vam je skup podataka $X$ koji ima $m=7$ primjera i pripadne oznake $y$. Koristeći scatter_plot vizualizirajte podatke i označite pripadne klase. <br>\n",
    "\n",
    "- Primijenite model `SVC` s linearnom funkcijom na  (https://scikit-learn.org/stable/modules/generated/sklearn.svm.SVC.html) <br>\n",
    "- Ispišite koeficijente $\\theta_0$ i $\\theta$. \n",
    "<br>\n",
    "- Na scatter_plot-u s početka zadatke nacrtajte pravac određen koeficijentima $\\theta_0$ i $\\theta$\n",
    "- Ispišite potporne vektore. Na gornjem scatter_plotu označite potporne vektore. \n",
    "- Izračunajte širinu dobivene margine.\n",
    "\n",
    "Uočite koji su potporni vektori i kolika je njihova udaljetnost do hiperravnine. "
   ]
  },
  {
   "cell_type": "markdown",
   "metadata": {},
   "source": [
    "#### Način 1:"
   ]
  },
  {
   "cell_type": "code",
   "execution_count": null,
   "metadata": {},
   "outputs": [],
   "source": [
    "X = np.array([[2,3.5], [2,3], [1,4], [3,3], [5,2], [4,2.25], [6,3]])\n",
    "y = np.array([1, 1, 1, 1, -1, -1, -1])\n",
    "\n",
    "plt.scatter(X[:,0], X[:,1], c=['red' if i==1 else 'blue' for i in y])\n",
    "plt.show()"
   ]
  },
  {
   "cell_type": "code",
   "execution_count": 46,
   "metadata": {},
   "outputs": [
    {
     "data": {
      "text/plain": [
       "SVC(C=1.0, cache_size=200, class_weight=None, coef0=0.0,\n",
       "    decision_function_shape='ovr', degree=3, gamma='auto_deprecated',\n",
       "    kernel='linear', max_iter=-1, probability=False, random_state=None,\n",
       "    shrinking=True, tol=0.001, verbose=False)"
      ]
     },
     "execution_count": 46,
     "metadata": {},
     "output_type": "execute_result"
    }
   ],
   "source": [
    "# Instanciranje modela\n",
    "clf = SVC(kernel = 'linear')\n",
    "clf.fit(X, y)"
   ]
  },
  {
   "cell_type": "code",
   "execution_count": null,
   "metadata": {},
   "outputs": [],
   "source": [
    "# Koeficijenti se dobivaju preko atributa coef_\n",
    "# Koeficijent pomaka se dobiva preko atributa  clf.intercept_\n",
    "theta = clf.coef_[0]\n",
    "theta_0 =  clf.intercept_[0]\n",
    "print(\"theta = \", clf.coef_, clf.intercept_)\n",
    "\n",
    "# Neke informacije o potpotnim vektorima\n",
    "# support_vectors_ - potporni vektori\n",
    "# support_ - indeksi potpornih vektora\n",
    "# n_support_ - broj potpornih vektora za svaku klasu\n",
    "\n",
    "print(\"Potporni vektori su:\\n \", clf.support_vectors_)\n",
    "print(\"Gamma = \",np.min(np.abs((X.dot(theta)+theta_0)/np.linalg.norm(theta))) )\n",
    "\n",
    "\n",
    "xx = np.linspace(1,5)\n",
    "yy =  -theta[0]/theta[1]* xx - theta_0 / theta[1]\n",
    "plt.plot(xx, yy, 'k-')\n",
    "plt.scatter(X[:,0], X[:,1], c=['red' if i==1 else 'blue' for i in y])\n",
    "plt.scatter(clf.support_vectors_[:,0], clf.support_vectors_[:,1],marker='*')\n",
    "plt.show()\n"
   ]
  },
  {
   "cell_type": "markdown",
   "metadata": {},
   "source": [
    "#### Način 2:"
   ]
  },
  {
   "cell_type": "code",
   "execution_count": null,
   "metadata": {},
   "outputs": [],
   "source": [
    "## 1. \n",
    "# Postavljamo model\n",
    "lin_clf = LinearSVC()\n",
    "lin_clf.fit(X,y)\n",
    "print(LinearSVC(tol=0.0001))\n",
    "\n",
    "## 2. \n",
    "theta_lin = lin_clf.coef_[0]\n",
    "theta_0_lin =  lin_clf.intercept_[0]\n",
    "print(\"theta = \", lin_clf.coef_, lin_clf.intercept_)\n",
    "print(\"Gamma = \",np.min(np.abs((X.dot(theta_lin)+theta_0_lin)/np.linalg.norm(theta_lin))) )\n",
    "\n",
    "## 3. Vizualizacija\n",
    "# Nemamo support vektore\n",
    "xx = np.linspace(1,5)\n",
    "yy =  -theta_lin[0]/theta_lin[1]* xx - theta_0_lin / theta_lin[1]\n",
    "plt.plot(xx, yy, 'k-')\n",
    "plt.scatter(X[:,0], X[:,1], c=['red' if i==1 else 'blue' for i in y])\n",
    "plt.show()"
   ]
  },
  {
   "cell_type": "code",
   "execution_count": null,
   "metadata": {},
   "outputs": [],
   "source": [
    "# Razliciti koeficijenti pravaca? \n",
    "# Prvi: theta :  [[-1.    0.75]] [1.53125] => -x + 0.75y + 1.53125 = 0 => y = 1.3333x - 2.041667\n",
    "# Drugi:  [[-0.60234893  0.77392612]] [0.06136465] => -0.60234893x + 0.77392612y + 0.06136465 = 0 => y = 0.0.7783028824508468 x - 0.07929006195061616 \n",
    "xx = np.linspace(1,5)\n",
    "\n",
    "# Razliciti pravci ali kada gledamo bilo koji od ta dva pravca s obzirom na podatke vidimo kako su na sredini\n",
    "plt.plot(xx, 1.3333*xx - 2.041667, 'k-')\n",
    "plt.plot(xx, 0.7783028811873632*xx - 0.0792900645922814 , 'g--')\n",
    "plt.scatter(clf.support_vectors_[:,0], clf.support_vectors_[:,1],marker='*')\n",
    "plt.show()"
   ]
  },
  {
   "cell_type": "markdown",
   "metadata": {},
   "source": [
    "#### Razlike između LinearSVC() i SVC(kernel=\"linear\")\n",
    "- LinearSVC je implementiran kao liblinear \n",
    "- SVC se temelji na liblinear \n",
    "\n",
    "Preporuka je koristiti LinearSVC za veće skupove podataka (nekoliko (10ak) tisuća podataka)"
   ]
  },
  {
   "cell_type": "markdown",
   "metadata": {},
   "source": [
    "---\n",
    "## 3. Logistička regresija\n",
    "---\n",
    "\n",
    "- za model funkciju koristimo logističku (sigmoidnu) funkciju koja je općenito oblika $g(z) = \\frac{1}{1+e^{-z}}$\n",
    "- model funkcija s obzirom na parametre $\\theta$ je $h_{\\theta}(x) = \\frac{1}{1+e^{-\\theta ^T x}}$\n",
    "- sigmoidna funkcija preslikava sve na interval $<0,1>$ pa njenu izlaznu vrijednost interpretiramo kao vjerojatnost da podatak $x$ s obzirom na parametar $\\theta$ pripada klasi $1$\n",
    "- $\\theta ^T x$ definira hiperravninu (decision boundary) s obzirom na koji klasificiramo podatke - sve što je \"ispod\" je klasa 0, sve \"iznad\" klasa 1"
   ]
  },
  {
   "cell_type": "markdown",
   "metadata": {},
   "source": [
    "---"
   ]
  },
  {
   "cell_type": "code",
   "execution_count": 92,
   "metadata": {},
   "outputs": [],
   "source": [
    "#############################################\n",
    "\n",
    "# Pomocna funkcija za crtanje\n",
    "def plot_contour(X,y, theta):\n",
    "    delta = 0.04  # mesh resolution\n",
    "    x_ = np.arange(X[:, 0].min() - 1, X[:, 0].max() + 1,delta)\n",
    "    y_ = np.arange(X[:, 1].min() - 1, X[:, 1].max() + 1,delta)\n",
    "    X_, Y_ = np.meshgrid(x_,y_)\n",
    "    XX = np.c_[X_.ravel(), Y_.ravel()]\n",
    "    \n",
    "    Z = h(XX.dot(theta[1:]) + theta[0])\n",
    "    Z = np.array([-1 if i < 0.5 else 1 for i in Z])\n",
    "    \n",
    "    Z = Z.reshape(X_.shape)\n",
    "\n",
    "    plt.contourf(X_, Y_, Z, cmap='spring')\n",
    "    plt.scatter(X[:,0], X[:,1],c=y, cmap='gray')\n",
    "    plt.show()\n",
    "    \n",
    "####################################################"
   ]
  },
  {
   "cell_type": "markdown",
   "metadata": {},
   "source": [
    "### Razumijevanje modela"
   ]
  },
  {
   "cell_type": "code",
   "execution_count": null,
   "metadata": {},
   "outputs": [],
   "source": [
    "X = np.array([[-3.78,3.96],[-3.98,3.8],[-0.95,5.18],[-2.71,4],[-0.6,4.31],[-2.58,4.65],[-2.54,4.28],[-3.55,1.62],[-3.13,4.4],[-1.93,5.62]])\n",
    "y = np.array([-1, -1, 1, 1, 1, 1, -1, -1, -1, 1])\n",
    "\n",
    "plt.scatter(X[:,0], X[:,1], c = y)\n",
    "plt.show()"
   ]
  },
  {
   "cell_type": "code",
   "execution_count": 64,
   "metadata": {},
   "outputs": [
    {
     "name": "stdout",
     "output_type": "stream",
     "text": [
      "predikcija -1  stvarna -1\n"
     ]
    }
   ],
   "source": [
    "# Što se zapravo događa u pozadini? \n",
    "# naučeni parametri\n",
    "theta = np.array([0.325, 1.08, 0.59])\n",
    "\n",
    "# model funkcija h_theta(x)\n",
    "def h(z):\n",
    "    return (1.0 / (1.0 + np.exp(-z)))\n",
    "\n",
    "# theta^T * x\n",
    "y_pred = h(theta[1:].dot(X[0].reshape(-1,1)) + theta[0])\n",
    "if y_pred>=0.5: print('predikcija 1', 'stvarna', y[0])\n",
    "else: print('predikcija -1', ' stvarna', y[0])"
   ]
  },
  {
   "cell_type": "code",
   "execution_count": null,
   "metadata": {},
   "outputs": [],
   "source": [
    "# Prikazimo funkciju h\n",
    "\n",
    "# Crtamo graf funkcije h \n",
    "# Tocke x,h(x)\n",
    "xrange = np.arange(-3, 3, 0.01)\n",
    "plt.plot(xrange, h(xrange), color='indigo')\n",
    "\n",
    "# Crtamo predikcije\n",
    "# predikcija = X*theta\n",
    "# Tocke (predikcija, h(predikcija))\n",
    "plt.scatter(X.dot(theta[1:]) + theta[0], h(X.dot(theta[1:]) + theta[0]))\n",
    "plt.show()\n",
    "# Napomena: h(X.dot(log.coef_.reshape(-1,1)) + log.intercept_) == log.predict_proba[:,1]\n",
    "\n",
    "# Smisao: vidjeti kako funkcija h preslika sve na <0,1>"
   ]
  },
  {
   "cell_type": "code",
   "execution_count": null,
   "metadata": {},
   "outputs": [],
   "source": [
    "plot_contour(X,y, theta)"
   ]
  },
  {
   "cell_type": "markdown",
   "metadata": {},
   "source": [
    "### Primjer\n",
    "Utjecaj parametra $\\theta$ na izgled sigmoidne funkcije"
   ]
  },
  {
   "cell_type": "code",
   "execution_count": 19,
   "metadata": {},
   "outputs": [],
   "source": [
    "def h(z, p):\n",
    "    return (1.0 / (1.0 + np.exp(-p*z)))"
   ]
  },
  {
   "cell_type": "code",
   "execution_count": null,
   "metadata": {},
   "outputs": [],
   "source": [
    "x_ = np.arange(-5, 5, 0.01)\n",
    "for i in range(-3,3):\n",
    "    plt.plot(x_, h(x_, i), color='indigo')\n",
    "    plt.show()"
   ]
  },
  {
   "cell_type": "markdown",
   "metadata": {},
   "source": [
    "#### Funkcija gubitka\n",
    "$$ J(\\theta, \\theta_0) = \\sum\\limits_{i=1}^m \\log{[1+exp({-y^{(i)}(\\theta^Tx^{(i)}+\\theta_0)})]} $$\n",
    "\n",
    "Pogledajmo kako se ponaša funkcija gubitka. "
   ]
  },
  {
   "cell_type": "code",
   "execution_count": null,
   "metadata": {},
   "outputs": [],
   "source": [
    "# Ovisi o parametrima theta => oni utjecu na predikciju y(theta*X + theta0) => ovisi o predikciji i stvarnoj vrijednosti\n",
    "\n",
    "# Predikcija 1, stvarna vrijednost 1\n",
    "print(np.log(1+np.exp(-1*1)))\n",
    "\n",
    "# Predikcija -1, stvarna vrijednost 1\n",
    "print(np.log(1+np.exp(-1*(-1))))\n",
    "\n",
    "# Predikcija 1, stvarna vrijednost -1\n",
    "print(np.log(1+np.exp(1*1)))\n",
    "\n",
    "# Predikcija -1, stvarna vrijednost -1\n",
    "print(np.log(1+np.exp(1*-1)))"
   ]
  },
  {
   "cell_type": "code",
   "execution_count": 26,
   "metadata": {},
   "outputs": [],
   "source": [
    "def J(y,yp):\n",
    "    return np.log(1+np.exp(-y*yp))"
   ]
  },
  {
   "cell_type": "code",
   "execution_count": null,
   "metadata": {},
   "outputs": [],
   "source": [
    "# Stvarna vrijednost 1:\n",
    "# Predikcije se kreću od 0 do 1, vidimo da kako je predikcija bliža 1 => vrijednost funkcije gubitka se smanjuje\n",
    "predikcije = np.arange(0.0, 1, 0.01)\n",
    "for i,p in enumerate(list(predikcije)):\n",
    "    plt.scatter(i,J(1,p))\n",
    "plt.show()"
   ]
  },
  {
   "cell_type": "code",
   "execution_count": null,
   "metadata": {},
   "outputs": [],
   "source": [
    "# Stvarna vrijednost -1\n",
    "# Predikcije se kreću od 0 do 1, vidimo da kako je predikcija bliža 1 => vrijednost funkcije gubitka se povećava\n",
    "predikcije = np.arange(0,1,0.01)\n",
    "for i,p in enumerate(list(yp)):\n",
    "    plt.scatter(i,J(-1,p))"
   ]
  }
 ],
 "metadata": {
  "kernelspec": {
   "display_name": "Python 3",
   "language": "python",
   "name": "python3"
  },
  "language_info": {
   "codemirror_mode": {
    "name": "ipython",
    "version": 3
   },
   "file_extension": ".py",
   "mimetype": "text/x-python",
   "name": "python",
   "nbconvert_exporter": "python",
   "pygments_lexer": "ipython3",
   "version": "3.7.4"
  }
 },
 "nbformat": 4,
 "nbformat_minor": 4
}
