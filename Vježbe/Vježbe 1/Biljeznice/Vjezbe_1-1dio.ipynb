{
 "cells": [
  {
   "cell_type": "markdown",
   "metadata": {},
   "source": [
    "# Vježbe 1 \n",
    "## Prvi dio\n",
    "\n",
    "#### Teme:\n",
    "1. ponavljanje linearne algebre & matematičke analize\n",
    "2. upoznavanje s JupyterLab radnom okolinom\n",
    "    - kako koristiti JupyterLab\n",
    "    - markdown\n",
    "    - predaja zadaće\n",
    "4. upoznavanje biblioteke Numpy\n",
    "5. upoznavanje biblioteke Matplotlib\n",
    "6. upoznavanje biblioteke scikit-learn"
   ]
  },
  {
   "cell_type": "markdown",
   "metadata": {},
   "source": [
    "#### 1. ponavljanje linearne algebre & matematičke analize\n",
    "[PDF](https://fizika-my.sharepoint.com/:b:/g/personal/djaganja_unios_hr/Ebdzm08U6tlFuHLR0lEBT60BWRmgumjyVtmcPKkQ5cW9iw?e=77LhRj)"
   ]
  },
  {
   "cell_type": "markdown",
   "metadata": {},
   "source": [
    "#### 2. Upoznavanje s JupyterLab radnom okolinom\n",
    "\n",
    "Za rješavanje zadataka na vježbama i za rješavanja/predaju zadaće koristit ćemo JupyterLab radnu okolinu. Jedan od načina kako možemo koristiti (kako će biti prezentirano na vježbama) je da lokalno instalirate _Anacondu_ (Pratite upute na: https://docs.anaconda.com/anaconda/). Zatim, ako preferirate grafičko korisničko sučelje, iz Anaconda Navigatora pokrente lokalno JupyterLab. \n",
    "<img src=\"img1.png\" width=\"800px\" />\n",
    "\n",
    "Alternativno, možete koristiti Google Colab (https://colab.research.google.com/notebooks/intro.ipynb#recent=true). \n",
    "   - koristi se online\n",
    "   - preporuka je da se ulogirate sa svojim Google računom\n",
    "   - podatke koje ćete učitati možete staviti u direktorij koji se prikaže na lijevoj strani, **ali** ti podaci se brišu nakon kratkog vremena\n",
    "        - bolji način -> podatke učitavate na vaš Google Drive, detaljne upute imate na internetu, npr: https://colab.research.google.com/notebooks/io.ipynb\n",
    "        \n",
    "##### Zašto koristimo JupyterLab ( ili Colab) ? \n",
    "- grafičko korisničko sučelje i jednostavno za koristiti\n",
    "- sve mogućnosti Pythona\n",
    "- sve dodatne biblioteke za Data Science, Machine Learning i sl. \n",
    "- pisanje teksta (Markdown) i stručnog teksta (Latex)\n",
    "- umetanje datoteka/slika/grafova\n",
    "\n",
    "\n",
    "##### Kako ćete predavati zadaću? \n",
    "- Zadaću ćete pisati u JupyterLab bilježnici (Colab bilježnici)\n",
    "- Sve zadatke možete riješiti u jednoj bilježnici \n",
    "- Programerske zadatke rješavate na uobičajen način (pišete kod u ćelijama bilježnice ili napišete skripte (.py datoteke) koje onda pozivate u ćelijama bilježnice )\n",
    "- Teorijske zadatke pišete u Markdownu (Latexu) ili (ukoliko su neki složeni raspisi) skenirane/uslikane datoteke umetnene u Jupyter bilježnicu \n",
    "- JupyterLab: Bilježnicu/zip file pošaljete / Ili ako koristite Google Colab dovoljno je da podijelite link na bilježnicu -> Teams->Zadaće->Assignments"
   ]
  },
  {
   "cell_type": "markdown",
   "metadata": {},
   "source": [
    "##### Kako koristiti Markdown?\n",
    "Cijeli ovaj prethodni tekst je napisan u Markdownu. Markdown je markup jezik, super jednostavan za korištenje (s kojim ste se dosad markup jezicima susreli?)<br>\n",
    "Jupyter bilježnica se sastoji od ćelija. Kada Dodamo novu ćeliju možemo odabrati njen format, ponuđeni su: Markdowm, Code, Raw. <br>\n",
    "Mi ćemo koristiti Markdown za pisanje teksta i code za pisanje Python koda. <br>\n",
    "\n",
    "Nakon što ste dodali novu ćeliju i označili je kao Markdown, možete počet pisati tekst. <br>\n",
    "\n",
    "Naslove dodajemo stavljajući znak # na početak reda željeni broj puta, tako imamo naslove u različitim veličinama\n",
    "# H1\n",
    "## H2\n",
    "### H3\n",
    "#### H4\n",
    "##### H5\n",
    "###### H6\n",
    "\n",
    "Ako želimo razdovojiti tekst horizontalnom linijom preko cijele stranice napišemo tri uzastopne crtice --- ili ___ na početak reda (dodani jedan prazan red)\n",
    "\n",
    "---\n",
    "\n",
    "U tekstu možemo dijelove naglašavati **podebljavanjem** na __dva načina__ ili ukošenim *slovima* također na _dva načina_. \n",
    "\n",
    "---\n",
    "\n",
    "Ako želimo tekst posložiti u numeriranu ili nenumeriranu listu to radimo na sljedeći način:\n",
    "1. stavimo redni broj\n",
    "2. iza njega jedan razmak\n",
    "3. i samo nižemo stavke sa liste\n",
    "4. jednu ispod druge\n",
    "\n",
    "Dok za neneumeriranu listu je dovoljno\n",
    "- staviti jednu crticu\n",
    "- i iza nje jedan razmak\n",
    "- također možemo korstiti\n",
    "* znak asterisk\n",
    "+ ili znak plus\n",
    "\n",
    "Liste možemo ugnijezditi koristeći dovoljan razmak (tab)\n",
    "1. Zadatak \n",
    "    1. podzadatak\n",
    "    2. podzadatak\n",
    "2. Zadatak\n",
    "    1. podzadatak\n",
    "- Treći zadatak\n",
    "    - prvi podzadatak\n",
    "    - drugi podzadatak\n",
    "        - prvi podpodzadatak\n",
    "        \n",
    "\n",
    "##### Latex \n",
    "Unutar Markdowna možemo pisati Latex kod (tekst). Latex pišemo unutar simbola $\n",
    "\n",
    "Primjeri: \n",
    "- $f(x) = \\frac{1}{2}x^3$\n",
    "- $a_0^n$\n",
    "- $A\\in \\mathbb{R}^{n\\times n}$\n",
    "- $||x||_2 = \\sqrt{\\sum\\limits_{i=1}^{n}|x_i|^2}$\n",
    "        \n",
    "---\n",
    "\n",
    "Jupyter bilježnicu možete izvesti u pdf ili html oblik, zatim kao Python skriptu i sl. \n",
    "- Upute: gore lijevo u izborniku File/Export notebook as"
   ]
  },
  {
   "cell_type": "markdown",
   "metadata": {},
   "source": [
    "#### Upoznavanje biblioteka\n",
    "\n",
    "- učitavanje\n"
   ]
  },
  {
   "cell_type": "code",
   "execution_count": 2,
   "metadata": {},
   "outputs": [],
   "source": [
    "# begin standard imports\n",
    "import numpy as np\n",
    "import pandas as pd\n",
    "import matplotlib.pyplot as plt\n",
    "from sklearn.model_selection import train_test_split\n",
    "#end standard imports "
   ]
  },
  {
   "cell_type": "markdown",
   "metadata": {},
   "source": [
    "### Arrays"
   ]
  },
  {
   "cell_type": "markdown",
   "metadata": {},
   "source": [
    "#### Zadatak 1: Kreiranje Numpy arraya\n",
    "\n",
    "##### Shape\n",
    "Numpy arrays imaju atribut **shape** čiji je tip uređeni par. \n",
    "- array duljine n ima shape (n,)\n",
    "- matrica sa m redaka i n stupaca ima shape (m,n) \n",
    "- arrayji mogu imati više od dvije dimenzije (axis)\n",
    "    - npr: ako je a.shape = (3,2,4) onda je $a \\in \\mathbb{R}^{3\\times 2 \\times 4} $"
   ]
  },
  {
   "cell_type": "code",
   "execution_count": null,
   "metadata": {},
   "outputs": [],
   "source": [
    "#1.1 arrays created from python array\n",
    "\n",
    "a = np.array([1,2,3])\n",
    "b = np.array([[1,2,3],[4,5,6]])\n",
    "print(a)\n",
    "print(b)\n",
    "\n",
    "#1.2 array comprehensions work well\n",
    "array = np.array([x/2 for x in range(1,5)])\n",
    "print(array)\n",
    "\n",
    "\n",
    "# Shape\n",
    "print(a.shape)\n",
    "# Reshape 1D to 2D \n",
    "# -1 as unspecified\n",
    "a = a.reshape(-1,1)\n",
    "print(a.shape)\n",
    "\n",
    "# Reshape generally\n",
    "b.reshape(3,2)\n",
    "\n",
    "# Find out dimensions of array\n",
    "print(a.shape)\n",
    "print(b.shape)\n",
    "print(array.shape)\n"
   ]
  },
  {
   "cell_type": "markdown",
   "metadata": {},
   "source": [
    "#### Zadatak 2: Kreiranje višedimenzionalnih numpy arrayja"
   ]
  },
  {
   "cell_type": "code",
   "execution_count": 3,
   "metadata": {},
   "outputs": [
    {
     "name": "stdout",
     "output_type": "stream",
     "text": [
      "[[1 2 3]\n",
      " [4 5 6]\n",
      " [7 8 9]]\n",
      "[[1 2 3]\n",
      " [4 5 6]\n",
      " [7 8 9]]\n",
      "[[[ 1  2  3]\n",
      "  [ 4  5  6]]\n",
      "\n",
      " [[ 7  8  9]\n",
      "  [10 11 12]]]\n",
      "slice:   [0,1]: 1\n",
      "access: [0][1]: 1\n"
     ]
    }
   ],
   "source": [
    "# Similar operations with multi-dimensional arrays (matrices)\n",
    "\n",
    "# brute force\n",
    "array = np.array([[1,2,3],[4,5,6],[7,8,9]])\n",
    "print(array)\n",
    "\n",
    "# \"double comprehension\"\n",
    "array = np.array([[x for x in range(i,j+1)] \n",
    "                    for (i,j) in [(1,3),(4,6),(7,9)]])\n",
    "print(array)\n",
    "\n",
    "# higher-level arrays\n",
    "\n",
    "array = np.array([[[1,2,3],[4,5,6]],[[7,8,9],[10,11,12]]])\n",
    "print(array)\n",
    "\n",
    "# REMARK: a 3-d array is useful for image data, which contains a grid\n",
    "# of rgb values\n",
    "\n",
    "# indexing in an array starts from 0, first row then column\n",
    "\n",
    "array = np.array([[0,1,2],[3,4,5]])\n",
    "print('slice:   [0,1]:',array[0,1])\n",
    "print('access: [0][1]:',array[0][1])\n",
    "\n",
    "# more on slices later"
   ]
  },
  {
   "cell_type": "markdown",
   "metadata": {},
   "source": [
    "#### Zadatak 3: Ostali načini kreiranja numpy arraya"
   ]
  },
  {
   "cell_type": "code",
   "execution_count": null,
   "metadata": {},
   "outputs": [],
   "source": [
    "array = np.empty(4) \n",
    "print(\"empty\\n\",array)\n",
    "\n",
    "array = np.zeros((2,3))\n",
    "print(\"zeroes\\n\",array)\n",
    "\n",
    "array = np.identity(4)\n",
    "print(\"identity\\n\",array)\n",
    "\n",
    "array = np.eye(5,4)\n",
    "print(\"eye(5,4)\\n\",array)\n",
    "\n",
    "array = np.eye(4,5)\n",
    "print(\"eye(4,5)\\n\",array)\n",
    "\n",
    "array = np.random.random(5)\n",
    "print(\"random(5)\\n\",array)\n",
    "\n",
    "array = np.random.random([5,5])\n",
    "print(\"random([5,5])\\n\",array)"
   ]
  },
  {
   "cell_type": "markdown",
   "metadata": {},
   "source": [
    "#### Vježba\n",
    "Pogledati dokumentaciju: http://numpy.org/doc/1.18/reference/routines.array-creation.html \\\\\n",
    "\n",
    "Kako biste kreirali array koji sadrži samo nule, a istih je dimenzija kao neki zadani array?"
   ]
  },
  {
   "cell_type": "markdown",
   "metadata": {},
   "source": [
    "#### Zadatak 4: Osnovne aritmetičke operacije"
   ]
  },
  {
   "cell_type": "code",
   "execution_count": null,
   "metadata": {},
   "outputs": [],
   "source": [
    "# Elementwise\n",
    "\n",
    "x = np.array([1,2,3,4])\n",
    "y = np.array([2,4,6,8])\n",
    "# Addition\n",
    "print(\"x+y= \", x+y)\n",
    "print(\"x+y= \",np.add(x,y))\n",
    "\n",
    "# Substraction\n",
    "print(\"x-y= \",x-y)\n",
    "print(\"x-y= \",np.subtract(x,y))\n",
    "\n",
    "#Multiplication\n",
    "print(\"x*y= \",x*y)\n",
    "print(\"x*y= \",np.multiply(x,y))\n",
    "\n",
    "# Square root\n",
    "print(\"sqrt(x)= \",np.sqrt(x))\n",
    "\n",
    "# Multiplication of arrays by a scalar \n",
    "print(\"2*x= \",2*x)"
   ]
  },
  {
   "cell_type": "code",
   "execution_count": 4,
   "metadata": {},
   "outputs": [
    {
     "name": "stdout",
     "output_type": "stream",
     "text": [
      "[2 3 4]\n",
      "[[1 2 3]\n",
      " [2 4 6]\n",
      " [3 6 9]]\n",
      "caught ValueError: operands could not be broadcast together with shapes (3,) (2,) \n"
     ]
    }
   ],
   "source": [
    "# CONCEPT: Broadcasting\n",
    "# if you were designing numpy, what should the following operation do?\n",
    "\n",
    "array = np.array([1,2,3]) + 1\n",
    "print(array)\n",
    "\n",
    "# what about...\n",
    "\n",
    "array = np.array([1,2,3]) * np.array([[1],[2],[3]])\n",
    "print(array)\n",
    "\n",
    "# and what about!!!\n",
    "\n",
    "try:\n",
    "  array = np.array([1,2,3]) + np.array([1,2])\n",
    "except ValueError as e:\n",
    "  print('caught ValueError:',e)\n",
    "\n",
    "# basic idea of broadcasting:\n",
    "# if two axis are the same length, hadamard-style operations\n",
    "# if one axis is one element, then extend it to match the other"
   ]
  },
  {
   "cell_type": "markdown",
   "metadata": {},
   "source": [
    "#### Zadatak 5: Osnovne aritmetičke operacije - množenje"
   ]
  },
  {
   "cell_type": "code",
   "execution_count": 7,
   "metadata": {},
   "outputs": [
    {
     "name": "stdout",
     "output_type": "stream",
     "text": [
      "60\n",
      "60\n",
      "60\n",
      "60\n",
      "[[ 2.  4.  6.  8.]\n",
      " [ 4.  8. 12. 16.]\n",
      " [ 6. 12. 18. 24.]\n",
      " [ 8. 16. 24. 32.]]\n",
      "[[ 2  4  6  8]\n",
      " [ 4  8 12 16]\n",
      " [ 6 12 18 24]\n",
      " [ 8 16 24 32]]\n",
      "[[2.]\n",
      " [4.]\n",
      " [6.]\n",
      " [8.]]\n",
      "[2. 4. 6. 8.]\n",
      "[[1. 5. 0.]\n",
      " [1. 3. 2.]\n",
      " [2. 2. 2.]]\n",
      "[[1 5 0]\n",
      " [1 3 2]\n",
      " [2 2 2]]\n",
      "[[1 5 0]\n",
      " [1 3 2]\n",
      " [2 2 2]]\n"
     ]
    }
   ],
   "source": [
    "## Exercise 1: basic operations of numpy: {{{\n",
    "\n",
    "# the @ operator represents matrix multiplication\n",
    "\n",
    "# numpy offers the following functions, which are all similar but different:\n",
    "#\n",
    "#                vectors     matrices      tensors\n",
    "# __________________________________________________\n",
    "# @            | <a,b>    | AA          | ???\n",
    "# numpy.inner  | <a,b>    | A^T A       | ???\n",
    "# numpy.dot    | <a,b>    | AA          | ???\n",
    "# numpy.vdot   | <a*,b>   | A:A         | ???\n",
    "# numpy.outer  | <a,b^T>  | a11*A a12*A | ???\n",
    "#                         | a21*A a22*A | ???\n",
    "\n",
    "\n",
    "##### Inner product \n",
    "x = np.array([1,2,3,4])\n",
    "y = np.array([2,4,6,8])\n",
    "\n",
    "# Exercise 5.1. Implement inner product using loop\n",
    "skalarni_produkt = 0\n",
    "for i in range(x.shape[0]):\n",
    "    skalarni_produkt += x[i]*y[i]\n",
    "\n",
    "print(skalarni_produkt)\n",
    "\n",
    "# Numpy operations: \n",
    "print(np.dot(x,y))\n",
    "print(x.dot(y))\n",
    "print(np.inner(x,y))\n",
    "\n",
    "##### Outer product\n",
    "# Exercise 5.2. Implement outer product using loop\n",
    "n = x.shape[0]\n",
    "A = np.empty([4,4])\n",
    "for i in range(n):\n",
    "    for j in range(n):\n",
    "        A[i,j] = x[i]*y[j]\n",
    "print(A)\n",
    "\n",
    "# Numpy operations:\n",
    "print(np.outer(x,y))\n",
    "\n",
    "##### Matrix * vector multiplication: Ax\n",
    "\n",
    "# Exercise 5.3 Implement product of matrix A and vector x \n",
    "# Ax = b\n",
    "A = 2*np.eye(4,4)\n",
    "b = np.zeros([4,1])\n",
    "for i in range(4):\n",
    "    for j in range(4):\n",
    "        b[i] += A[i,j]*x[j]\n",
    "print(b)\n",
    "\n",
    "# numpy operations\n",
    "print(A.dot(x))\n",
    "\n",
    "##### Multiplication of matrices\n",
    "\n",
    "A = np.array([[1,2,3],[1,0,1],[1,0, 0]])\n",
    "B = np.array([[2,2,2],[1,0,-1],[-1, 1, 0]])\n",
    "\n",
    "C = np.zeros([3,3])\n",
    "for i in range(3):\n",
    "    for j in range(3):\n",
    "        for k in range(3):\n",
    "            C[i,j] += A[i,k]*B[k,j]\n",
    "print(C)\n",
    "\n",
    "# numpy operations\n",
    "print(np.dot(A,B))\n",
    "print(np.matmul(A,B))"
   ]
  },
  {
   "cell_type": "markdown",
   "metadata": {},
   "source": [
    "#### Zadatak 6: Intervali"
   ]
  },
  {
   "cell_type": "code",
   "execution_count": null,
   "metadata": {},
   "outputs": [],
   "source": [
    "# basic ranges:\n",
    "# arange([start],stop,[step])\n",
    "# linspace(start,stop,n=50,endpoint=True)\n",
    "#\n",
    "# advanced ranges:\n",
    "# logspace\n",
    "# geomspace\n",
    "\n",
    "# arange\n",
    "# NOTE: interval is of the form [start,end)\n",
    "\n",
    "array = np.arange(3,8)\n",
    "print(array)\n",
    "\n",
    "array = np.arange(3,11,2)\n",
    "print(array)\n",
    "\n",
    "array = np.arange(10,2,-2)\n",
    "print(array)"
   ]
  },
  {
   "cell_type": "markdown",
   "metadata": {},
   "source": [
    "#### Zadatak 7: Rješavanje Ax = b, gdje je A gornjetrokutasta"
   ]
  },
  {
   "cell_type": "code",
   "execution_count": 8,
   "metadata": {},
   "outputs": [
    {
     "name": "stdout",
     "output_type": "stream",
     "text": [
      "[-2.  4.  2.]\n"
     ]
    }
   ],
   "source": [
    "# the technique is back substitution:\n",
    "# given:  |a b|[x1] = b1\n",
    "#         |0 c|[x2] = b2\n",
    "#\n",
    "# the last equation can be solved trivially.  Then the next to last\n",
    "# can be solved by using this value, etc.\n",
    "\n",
    "# A should be upper triangular\n",
    "def backsub(A,b):\n",
    "    m,n = A.shape\n",
    "    r = np.zeros(m)\n",
    "    m-=1\n",
    "    for i in range(m,-1,-1):\n",
    "        r[i] = b[i] - np.dot(r,A[i,n-m-1:])\n",
    "        if A[i,i] != 0: r[i] /= A[i,i]\n",
    "        elif r[i] == 0: continue\n",
    "        else: raise ValueError('backsub not solvable')\n",
    "    return r\n",
    "\n",
    "A = np.array([[1,2,3],\n",
    "              [0,2,1],\n",
    "              [0,0,4]])\n",
    "b = np.array([12,10,8])\n",
    "print(backsub(A,b))"
   ]
  },
  {
   "cell_type": "markdown",
   "metadata": {},
   "source": [
    "#### Zadatak 8: Stack"
   ]
  },
  {
   "cell_type": "code",
   "execution_count": 9,
   "metadata": {},
   "outputs": [
    {
     "name": "stdout",
     "output_type": "stream",
     "text": [
      "[[0 1 2 3]\n",
      " [0 1 2 3]\n",
      " [0 1 2 3]]\n",
      "[[0 0 0]\n",
      " [1 1 1]\n",
      " [2 2 2]\n",
      " [3 3 3]]\n",
      "a = [[ 0  1  2  3]\n",
      " [ 4  5  6  7]\n",
      " [ 8  9 10 11]]\n",
      "b=  [[ 0  1  2  3]\n",
      " [ 4  5  6  7]\n",
      " [ 8  9 10 11]]\n",
      "axis=0\n",
      "[[[ 0  1  2  3]\n",
      "  [ 4  5  6  7]\n",
      "  [ 8  9 10 11]]\n",
      "\n",
      " [[ 0  1  2  3]\n",
      "  [ 4  5  6  7]\n",
      "  [ 8  9 10 11]]]\n",
      "axis=1\n",
      "[[[ 0  1  2  3]\n",
      "  [ 0  1  2  3]]\n",
      "\n",
      " [[ 4  5  6  7]\n",
      "  [ 4  5  6  7]]\n",
      "\n",
      " [[ 8  9 10 11]\n",
      "  [ 8  9 10 11]]]\n",
      "axis=2\n",
      "[[[ 0  0]\n",
      "  [ 1  1]\n",
      "  [ 2  2]\n",
      "  [ 3  3]]\n",
      "\n",
      " [[ 4  4]\n",
      "  [ 5  5]\n",
      "  [ 6  6]\n",
      "  [ 7  7]]\n",
      "\n",
      " [[ 8  8]\n",
      "  [ 9  9]\n",
      "  [10 10]\n",
      "  [11 11]]]\n"
     ]
    }
   ],
   "source": [
    "# if we have some arrays, we may like to build other arrays or\n",
    "# matrices from them.  Two useful operations to accomplish this are\n",
    "# stack and concatenate.\n",
    "#\n",
    "# stack takes some arrays and \"stacks them up\" along a NEW axis. i.e.\n",
    "#     stack : (R^n1 x R^n2 x ...)^m -> R^m x R^n1 x R^n2 ...\n",
    "#\n",
    "# By default, it will stack arrays along a new \"outermost\" axis, but\n",
    "# this can be changed with the keyword argument axis\n",
    "\n",
    "a = np.arange(4)\n",
    "print(np.stack((a,a,a)))\n",
    "print(np.stack((a,a,a), axis=1))\n",
    "\n",
    "a = np.arange(3*4).reshape((3,4))\n",
    "b = np.arange(3*4).reshape((3,4))\n",
    "\n",
    "print(\"a =\", a)\n",
    "print(\"b= \", b)\n",
    "\n",
    "print('axis=0',np.stack((a,b)),sep='\\n')\n",
    "print('axis=1',np.stack((a,b),axis=1),sep='\\n')\n",
    "print('axis=2',np.stack((a,b),axis=2),sep='\\n')\n"
   ]
  },
  {
   "cell_type": "markdown",
   "metadata": {},
   "source": [
    "#### Zadatak 9: Concatenate"
   ]
  },
  {
   "cell_type": "code",
   "execution_count": 10,
   "metadata": {},
   "outputs": [
    {
     "name": "stdout",
     "output_type": "stream",
     "text": [
      "a =  [[0 1 2]\n",
      " [3 4 5]]\n",
      "[[0 1 2]\n",
      " [3 4 5]\n",
      " [0 1 2]\n",
      " [3 4 5]\n",
      " [0 1 2]\n",
      " [3 4 5]]\n",
      "[[0 1 2 0 1 2 0 1 2]\n",
      " [3 4 5 3 4 5 3 4 5]]\n"
     ]
    }
   ],
   "source": [
    "# concatenate is almost the same as stack, but the difference is that\n",
    "# no new axis is created, rather an existing axis is extended\n",
    "\n",
    "a = np.arange(2*3).reshape((2,3))\n",
    "print(\"a = \", a)\n",
    "print(np.concatenate((a,a,a)))\n",
    "print(np.concatenate((a,a,a),axis=1))\n",
    "\n",
    "# Translates slice objects to concatenation along the second axis.\n",
    "# np.c_(X,Y)"
   ]
  },
  {
   "cell_type": "markdown",
   "metadata": {},
   "source": [
    "#### Zadatak 10: Razno"
   ]
  },
  {
   "cell_type": "code",
   "execution_count": null,
   "metadata": {},
   "outputs": [],
   "source": [
    "# operations like reshape swapaxes, moveaxis, and transpose all\n",
    "# operate on the shape of the arrays...\n",
    "\n",
    "a = np.arange(2*3*4*5*6)\n",
    "b = a.reshape(2,3,4,5,6)\n",
    "c = np.moveaxis(b,0,2)\n",
    "d = np.transpose(b)\n",
    "\n",
    "print('a',a.shape)\n",
    "print('b',b.shape)\n",
    "print('c',c.shape)\n",
    "print('d',d.shape)\n",
    "\n",
    "# Transpose\n",
    "a = np.array([[1,2,3,4],[5,6,7,8],[9,10,11,12]])\n",
    "print(a.T)"
   ]
  },
  {
   "cell_type": "markdown",
   "metadata": {},
   "source": [
    "#### Zadatak 11: Rad s podacima\n",
    "1. učitavanje podataka\n",
    "    - neke od standardnih funkcija koje ćete koristiti iz paketa numpy i pandas\n",
    "    - podaci su najčešće u formatima: csv, txt, slike\n",
    "2. spremanje podataka\n",
    "    - neke od standardnih funkcija za spremanje podataka"
   ]
  },
  {
   "cell_type": "code",
   "execution_count": null,
   "metadata": {},
   "outputs": [],
   "source": [
    "# Primjer: Numpy\n",
    "# Učitamo neke podatke koji su lokalno spremljeni u .csv\n",
    "podaci = np.loadtxt('./Podaci/data.csv', delimiter =',')\n",
    "\n",
    "# Pogledamo koliko podataka ima\n",
    "podaci.shape"
   ]
  },
  {
   "cell_type": "code",
   "execution_count": null,
   "metadata": {},
   "outputs": [],
   "source": [
    "# Primjer: Pandas - alat za jednostavno manipuliranje podacima\n",
    "# Učitamo neke podatke koji su lokalno spremljeni u .csv\n",
    "podaci = pd.read_csv('./podaci/X_a.csv')\n",
    "\n",
    "# Pregled podataka\n",
    "print(podaci.head())\n",
    "\n",
    "# Pogledamo koliko podataka ima\n",
    "print(podaci.shape)"
   ]
  },
  {
   "cell_type": "code",
   "execution_count": null,
   "metadata": {},
   "outputs": [],
   "source": [
    "# Primjer: \n",
    "# numpy.savetxt(fname, X, fmt='%.18e', delimiter=' ', newline='n', header='', footer='', comments='# ', encoding=None)\n",
    "X = np.random.random([10,2])\n",
    "np.savetxt('Podaci-1', X)\n",
    "\n",
    "# DataFrame.to_csv(path_or_buf=None, sep=',', na_rep='', float_format=None, columns=None, header=True, index=True, index_label=None, ...)\n",
    "X_dataframe = pd.DataFrame(X)\n",
    "X_dataframe.to_csv('Podaci-2',header=['prvi', 'drugi'])"
   ]
  },
  {
   "cell_type": "markdown",
   "metadata": {},
   "source": [
    "### Upoznavanje s matplotlib, scikit-learn\n"
   ]
  },
  {
   "cell_type": "markdown",
   "metadata": {},
   "source": [
    "#### Zadatak 12:  Vizualizacija podataka\n",
    "- najčešće korišteno: matplotlib.pyplot\n",
    "- podaci predstavljaju točke u ravnini: scatter plot\n",
    "- crtanje grafa ovisnosti jedne varijable o drugoj: plot\n",
    "- crtanje histograma, matrice korelacije\n",
    "- crtanje vektora"
   ]
  },
  {
   "cell_type": "code",
   "execution_count": null,
   "metadata": {},
   "outputs": [],
   "source": [
    "# Učitamo neke podatke koji su lokalno spremljeni u .csv\n",
    "podaci = np.loadtxt('./Podaci/data.csv', delimiter =',')\n",
    "\n",
    "# Podaci su neke točke oblika (x,y)\n",
    "plt.scatter(podaci[:,0], podaci[:,1])\n",
    "plt.show()\n",
    "\n",
    "# Crtanje grafa funkcije \n",
    "x = np.arange(0,10,0.5)\n",
    "y = x**2 + 2*x + 5\n",
    "plt.plot(x,y, color='mediumaquamarine')\n",
    "plt.scatter([4],[29], color='midnightblue')\n",
    "plt.show()\n",
    "\n",
    "# Drugi način\n",
    "plt.scatter(x,y)\n",
    "plt.show()\n",
    "\n",
    "# Crtanje pravca\n",
    "x = np.array([2,5])\n",
    "y = np.array([2,5])\n",
    "plt.plot(x,y)\n",
    "plt.show()\n",
    "\n"
   ]
  },
  {
   "cell_type": "code",
   "execution_count": null,
   "metadata": {},
   "outputs": [],
   "source": [
    "# Unutar paketa scikit-learn postoje neki standardni datasetovi koje možete koristiti\n",
    "# Svi se učitavaju na sljedeći način: \n",
    "dataset = datasets.load_breast_cancer()\n",
    "df = pd.DataFrame(data= dataset['data'],columns= dataset['feature_names'])\n",
    "df"
   ]
  }
 ],
 "metadata": {
  "kernelspec": {
   "display_name": "Python 3",
   "language": "python",
   "name": "python3"
  },
  "language_info": {
   "codemirror_mode": {
    "name": "ipython",
    "version": 3
   },
   "file_extension": ".py",
   "mimetype": "text/x-python",
   "name": "python",
   "nbconvert_exporter": "python",
   "pygments_lexer": "ipython3",
   "version": "3.7.4"
  }
 },
 "nbformat": 4,
 "nbformat_minor": 4
}
