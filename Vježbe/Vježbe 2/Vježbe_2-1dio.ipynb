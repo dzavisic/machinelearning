{
 "cells": [
  {
   "cell_type": "markdown",
   "metadata": {},
   "source": [
    "# Vježbe 2 - prvi dio\n",
    "\n",
    "- Analiza zadaće\n",
    "- Komentari, upiti, savjeti\n",
    "- Primjer polinomne regresije\n",
    "- Linearna regresija - drugačiji izbor funkcije pogreške"
   ]
  },
  {
   "cell_type": "code",
   "execution_count": 2,
   "metadata": {},
   "outputs": [],
   "source": [
    "import pandas as pd\n",
    "import numpy as np\n",
    "import matplotlib.pyplot as plt\n",
    "from sklearn.linear_model import LinearRegression, HuberRegressor\n",
    "from sklearn import preprocessing\n",
    "from sklearn.metrics import mean_absolute_error, mean_squared_error\n",
    "from sklearn.datasets import make_regression\n",
    "import numpy.random as rng\n",
    "import seaborn as sns\n",
    "import time"
   ]
  },
  {
   "cell_type": "markdown",
   "metadata": {},
   "source": [
    "## Analiza zadaće\n",
    "---"
   ]
  },
  {
   "cell_type": "markdown",
   "metadata": {},
   "source": [
    "## Zadatak 3\n",
    "Neka su zadani ulazni podaci $X\\in \\mathbb{R}^{m\\times n}$ i pripadne izlazne vrijednosti $y\\in\\mathbb{R}^{m}$. Na ovim podacima možemo provesti proces učenja modela linearne regresije. <br>\n",
    "Znamo kako se učenje svodi na minimizaciju funkcije $J(\\theta) = \\frac{1}{2m}\\sum\\limits_{i=1}^{m}(h_{\\theta}(x^{(i)})-y^{(i)})^2$ te kako do rješenje tog minimizacijskog problema možemo doći gradijentnom metodom. <br>\n",
    "Implementirajte gradijentnu metodu za učenje modela linearne regresije u općenitom slučaju kada su ulazni podaci dimenzije $X\\in \\mathbb{R}^{m\\times n}$.<br>\n",
    "\n",
    "Dodajte sljedeću mogućnost svojoj implementaciji gradijentne metode: crtanje grafa ovisnosti funkcije troška $J(\\theta)$ o iteracijama. (U svakoj iteraciji spremite vrijednost funkcije troška)"
   ]
  },
  {
   "cell_type": "code",
   "execution_count": 3,
   "metadata": {},
   "outputs": [],
   "source": [
    "## 4\n",
    "# Gradijentna metoda\n",
    "def gradientMethod(X,Y,alpha, numIter): \n",
    "    # Argumenti: X - matrica dizajna, Y-vektor izlaza, alpha - stopa ucenja, numIter - broj iteracija\n",
    "    m = X.shape[0] # broj redaka/podataka\n",
    "    n = X.shape[1] # broj stupaca/varijabli\n",
    "    theta =  np.zeros((n,1)) # Kreiramo pocetni theta\n",
    "    cost = np.zeros(numIter) # Trosak svake iteracije spremam u array kako bi poslije mogla plotati\n",
    "    print(\"Gradient method staring ...\")\n",
    "    for i in range(numIter):\n",
    "        XThetaY = X.dot(theta)-Y #Pomnozimo X i theta i oduzmemo Y\n",
    "        gradJ = (X.T.dot(XThetaY))/m # Gradijent\n",
    "        theta = theta - alpha*gradJ # Azuriramo theta\n",
    "        \n",
    "        cost[i] = (XThetaY.T).dot(XThetaY)/(2*m) # trosak spremimo\n",
    "        if(i%10==0):\n",
    "            print(\"Iteration #{} finished\".format(i))\n",
    "    return theta, cost\n",
    "\n",
    "def predict(X,theta):\n",
    "    y_pred = X.dot(theta)\n",
    "    return y_pred"
   ]
  },
  {
   "cell_type": "markdown",
   "metadata": {},
   "source": [
    "## Zadatak 4\n",
    "U datoteci house_train.csv i house_test.csv su vam dani podaci o nekretninama, koji sadrže različite karakteristike nekretnina poput površine ili broja soba te cijenu. Cilj narednih zadataka će biti uspostaviti linearnu regresiju između različitih karakteristika kuće u svrhu predviđanja cijene nekretnine. \n",
    "\n",
    "Kao ulaznu varijablu uzmite sqft_living, a kao izlaznu varijablu price. \n",
    "\n",
    "1. Učitajte podatke koji su vam dani u datoteci *house_train.csv*. Skalirajte podatke koristeći metodu objašnjenu na sljedećem [linku](https://scikit-learn.org/stable/modules/generated/sklearn.preprocessing.scale.html#sklearn.preprocessing.scale) \n",
    "\n",
    "1. Koristeći proizvoljnu biblioteku vizualizirajte odnos varijable ulaznih i izlaznih podataka. \n",
    "\n",
    "1. Koristeći *numpy array* napravite matricu dizajna $X\\in \\mathbb{R}^{m\\times (n+1)}$ i vektor izlaznih podataka $y \\in \\mathbb{R}^{m}$. \n",
    "\n",
    "1. Pokrenite gradijentnu metodu koju ste implementirali u prethodnom zadatku i pomoću nje odredite parametre $\\theta_0$ i $\\theta_1$. (Stopu učenja i broj iteracija odredite sami)\n",
    "\n",
    "1. Pravac određen izračunatime  parametrima $\\theta_0 + \\theta_1 x$ prikažite na grafu iz podzadatka b).\n",
    "1. Nacrtajte  graf promjene funkcije troška $J(\\theta)$ kroz iteracije.\n",
    "1. Učitajte podatke iz datoteke *house_test.csv*, spremite ih u odgovarajuće *numpy arrays* $X_{test}$ i $y_{test}$. Kao u podzadatku b), prikažite ih grafički.  \n",
    "\n",
    "1. Na učitanim podacima za testiranje provedite testiranje vašeg modela kao što smo pokazali na vježbama. Ispišite vrijednost pogreške.\n",
    "\n",
    "8. Za podatke $X$ i $y$ učitane iz datoteke *house\\_train.csv* odredite opet parametre $\\theta_0, \\theta_1$, ali koristeći gotovu implementaciju iz [*sklearn*](https://scikit-learn.org/stable/modules/generated/sklearn.linear_model.LinearRegression.html}{sklearn.LinearRegression) biblioteke. (Pazite na dimenzije)\n",
    "\n",
    "1. Na učitanim podacima za testiranje provedite testiranje ovog modela kao što smo pokazali na vježbama. Ispišite vrijednost pogreške.\n",
    "\n",
    "1. Razlikuju li se model kojeg ste dobili koristeći vašu implementaciju gradijentne metode i model kojeg ste dobili koristeći gotovu implementaciju iz *scikit-learn* paketa? \n",
    "\n",
    "1. Za podatke $X$ i $Y$ učitane iz datoteke *house_train.csv* odredite opet parametre $\\theta_0, \\theta_1$, ali koristeći sustav normalnih jednadžbi. "
   ]
  },
  {
   "cell_type": "code",
   "execution_count": 6,
   "metadata": {},
   "outputs": [],
   "source": [
    "## 1 & 2\n",
    "def load_data(data_path, cols_x, cols_y):\n",
    "    data = pd.read_csv(data_path)\n",
    "    df = pd.DataFrame(data)\n",
    "    df = df.dropna()\n",
    "    m = df.shape[0]\n",
    "    X = np.ones([m,len(cols_x)+1])\n",
    "    X[:,1:] = preprocessing.scale(df[cols_x].to_numpy())\n",
    "    Y = preprocessing.scale(df[cols_y].to_numpy().reshape(m,1))\n",
    "    return X,Y"
   ]
  },
  {
   "cell_type": "code",
   "execution_count": 11,
   "metadata": {},
   "outputs": [],
   "source": [
    "data_path = './Podaci/house_train.csv'\n",
    "cols_x = ['sqft_living']\n",
    "cols_y = ['price']\n",
    "X,y = load_data(data_path, cols_x, cols_y)"
   ]
  },
  {
   "cell_type": "code",
   "execution_count": 12,
   "metadata": {},
   "outputs": [
    {
     "name": "stdout",
     "output_type": "stream",
     "text": [
      "Gradient method staring ...\n",
      "Iteration #0 finished\n",
      "Iteration #10 finished\n",
      "Iteration #20 finished\n",
      "Iteration #30 finished\n",
      "Iteration #40 finished\n",
      "Iteration #50 finished\n",
      "Iteration #60 finished\n",
      "Iteration #70 finished\n",
      "Iteration #80 finished\n",
      "Iteration #90 finished\n",
      "Iteration #100 finished\n",
      "Iteration #110 finished\n",
      "Iteration #120 finished\n",
      "Iteration #130 finished\n",
      "Iteration #140 finished\n",
      "Iteration #150 finished\n",
      "Iteration #160 finished\n",
      "Iteration #170 finished\n",
      "Iteration #180 finished\n",
      "Iteration #190 finished\n",
      "Iteration #200 finished\n",
      "Iteration #210 finished\n",
      "Iteration #220 finished\n",
      "Iteration #230 finished\n",
      "Iteration #240 finished\n",
      "Iteration #250 finished\n",
      "Iteration #260 finished\n",
      "Iteration #270 finished\n",
      "Iteration #280 finished\n",
      "Iteration #290 finished\n",
      "Iteration #300 finished\n",
      "Iteration #310 finished\n",
      "Iteration #320 finished\n",
      "Iteration #330 finished\n",
      "Iteration #340 finished\n",
      "Iteration #350 finished\n",
      "Iteration #360 finished\n",
      "Iteration #370 finished\n",
      "Iteration #380 finished\n",
      "Iteration #390 finished\n",
      "Iteration #400 finished\n",
      "Iteration #410 finished\n",
      "Iteration #420 finished\n",
      "Iteration #430 finished\n",
      "Iteration #440 finished\n",
      "Iteration #450 finished\n",
      "Iteration #460 finished\n",
      "Iteration #470 finished\n",
      "Iteration #480 finished\n",
      "Iteration #490 finished\n",
      "Iteration #500 finished\n",
      "Iteration #510 finished\n",
      "Iteration #520 finished\n",
      "Iteration #530 finished\n",
      "Iteration #540 finished\n",
      "Iteration #550 finished\n",
      "Iteration #560 finished\n",
      "Iteration #570 finished\n",
      "Iteration #580 finished\n",
      "Iteration #590 finished\n",
      "Iteration #600 finished\n",
      "Iteration #610 finished\n",
      "Iteration #620 finished\n",
      "Iteration #630 finished\n",
      "Iteration #640 finished\n",
      "Iteration #650 finished\n",
      "Iteration #660 finished\n",
      "Iteration #670 finished\n",
      "Iteration #680 finished\n",
      "Iteration #690 finished\n",
      "Iteration #700 finished\n",
      "Iteration #710 finished\n",
      "Iteration #720 finished\n",
      "Iteration #730 finished\n",
      "Iteration #740 finished\n",
      "Iteration #750 finished\n",
      "Iteration #760 finished\n",
      "Iteration #770 finished\n",
      "Iteration #780 finished\n",
      "Iteration #790 finished\n",
      "Iteration #800 finished\n",
      "Iteration #810 finished\n",
      "Iteration #820 finished\n",
      "Iteration #830 finished\n",
      "Iteration #840 finished\n",
      "Iteration #850 finished\n",
      "Iteration #860 finished\n",
      "Iteration #870 finished\n",
      "Iteration #880 finished\n",
      "Iteration #890 finished\n",
      "Iteration #900 finished\n",
      "Iteration #910 finished\n",
      "Iteration #920 finished\n",
      "Iteration #930 finished\n",
      "Iteration #940 finished\n",
      "Iteration #950 finished\n",
      "Iteration #960 finished\n",
      "Iteration #970 finished\n",
      "Iteration #980 finished\n",
      "Iteration #990 finished\n",
      "0.21794581413269043\n",
      "[[2.77374679e-17]\n",
      " [6.99734228e-01]]\n"
     ]
    }
   ],
   "source": [
    "# 4. Treniranje \n",
    "start = time.time()\n",
    "[theta,cost] = gradientMethod(X,y,10e-3,1000)\n",
    "\n",
    "end = time.time()\n",
    "print(end - start)\n",
    "# Ispiši parametre\n",
    "print(theta)"
   ]
  },
  {
   "cell_type": "code",
   "execution_count": 15,
   "metadata": {},
   "outputs": [
    {
     "name": "stdout",
     "output_type": "stream",
     "text": [
      "[0.24723992]\n"
     ]
    }
   ],
   "source": [
    "# 8\n",
    "pogreška = 0\n",
    "y_test_pred = X_test.dot(theta)\n",
    "for i,prediction in enumerate(y_test_pred):\n",
    "    pogreška += (prediction -  y_test[i])**2\n",
    "print(pogreška/(2*X_test.shape[0]))"
   ]
  },
  {
   "cell_type": "code",
   "execution_count": 16,
   "metadata": {},
   "outputs": [
    {
     "data": {
      "text/plain": [
       "(array([[0.        , 0.69976444]]), array([1.95005183e-17]))"
      ]
     },
     "execution_count": 16,
     "metadata": {},
     "output_type": "execute_result"
    }
   ],
   "source": [
    "## 9\n",
    "reg = LinearRegression(fit_intercept=True).fit(X, y)\n",
    "reg.coef_, reg.intercept_"
   ]
  },
  {
   "cell_type": "code",
   "execution_count": 18,
   "metadata": {},
   "outputs": [
    {
     "name": "stdout",
     "output_type": "stream",
     "text": [
      "[0.24723958]\n"
     ]
    }
   ],
   "source": [
    "## 10\n",
    "pogreška = 0\n",
    "for i,prediction in enumerate(reg.predict(X_test)):\n",
    "    pogreška += (prediction -  y_test[i])**2\n",
    "print(pogreška/(2*X_test.shape[0]))"
   ]
  },
  {
   "cell_type": "code",
   "execution_count": null,
   "metadata": {},
   "outputs": [],
   "source": [
    "# Zakljucujem kako su modeli skoro isti :)"
   ]
  },
  {
   "cell_type": "code",
   "execution_count": 20,
   "metadata": {},
   "outputs": [
    {
     "data": {
      "text/plain": [
       "array([[4.06206492e-17],\n",
       "       [6.99764437e-01]])"
      ]
     },
     "execution_count": 20,
     "metadata": {},
     "output_type": "execute_result"
    }
   ],
   "source": [
    "## 12\n",
    "# Normalne jednadžbe\n",
    "Theta_NJ = np.linalg.inv(np.matmul(X.T,X)).dot((X.T).dot(y))\n",
    "Theta_NJ\n",
    "\n",
    "# Po koracima \n",
    "XTX = np.matmul(X.T,X)\n",
    "invXTX = np.linalg.inv(XTX)\n",
    "XTY = X.T.dot(y)\n",
    "Theta = invXTX.dot(XTY)\n",
    "Theta_NJ"
   ]
  },
  {
   "cell_type": "markdown",
   "metadata": {},
   "source": [
    "## Zadatak 4\n",
    "U ovom zadatku ulazni podaci će biti višestruki. Izlazna varijabla je i dalje price. \n",
    "1. Odaberite nekoliko karakteristika koje će vam biti ulazni podaci. Reprezentirajte ih kao *{numpy arrays*.  (Npr. 3 karakteristike)\n",
    "1. Izračunajte parametre $\\theta_0, \\theta_1$ koristeći implementaciju gradijentne metode iz trećeg zadatka. \n",
    "1. Učitajte podatke iz datoteke \\textit{house\\_test.csv}, spremite ih u odgovarajuće *numpy arrays* $X_{test}$ i $y_{test}$.\n",
    "1. Na učitanim podacima za testiranje provedite testiranje vašeg modela kao što smo pokazali na vježbama. Ispišite vrijednost pogreške."
   ]
  },
  {
   "cell_type": "code",
   "execution_count": 4,
   "metadata": {},
   "outputs": [
    {
     "data": {
      "text/plain": [
       "Index(['Unnamed: 0', 'id', 'date', 'price', 'bedrooms', 'bathrooms',\n",
       "       'sqft_living', 'sqft_lot', 'floors', 'waterfront', 'view', 'condition',\n",
       "       'grade', 'sqft_above', 'sqft_basement', 'yr_built', 'yr_renovated',\n",
       "       'zipcode', 'lat', 'long', 'sqft_living15', 'sqft_lot15'],\n",
       "      dtype='object')"
      ]
     },
     "execution_count": 4,
     "metadata": {},
     "output_type": "execute_result"
    }
   ],
   "source": [
    "data = pd.read_csv('./Podaci/house_train.csv')\n",
    "data = pd.DataFrame(data)\n",
    "data.columns"
   ]
  },
  {
   "cell_type": "code",
   "execution_count": 7,
   "metadata": {},
   "outputs": [],
   "source": [
    "## 1 \n",
    "data_path = './Podaci/house_train.csv'\n",
    "cols_x = ['sqft_living', 'bathrooms','bedrooms', 'floors']\n",
    "cols_y = ['price']\n",
    "X,y = load_data(data_path, cols_x, cols_y)"
   ]
  },
  {
   "cell_type": "code",
   "execution_count": 8,
   "metadata": {
    "collapsed": true,
    "jupyter": {
     "outputs_hidden": true
    }
   },
   "outputs": [
    {
     "name": "stdout",
     "output_type": "stream",
     "text": [
      "Gradient method staring ...\n",
      "Iteration #0 finished\n",
      "Iteration #10 finished\n",
      "Iteration #20 finished\n",
      "Iteration #30 finished\n",
      "Iteration #40 finished\n",
      "Iteration #50 finished\n",
      "Iteration #60 finished\n",
      "Iteration #70 finished\n",
      "Iteration #80 finished\n",
      "Iteration #90 finished\n",
      "Iteration #100 finished\n",
      "Iteration #110 finished\n",
      "Iteration #120 finished\n",
      "Iteration #130 finished\n",
      "Iteration #140 finished\n",
      "Iteration #150 finished\n",
      "Iteration #160 finished\n",
      "Iteration #170 finished\n",
      "Iteration #180 finished\n",
      "Iteration #190 finished\n",
      "Iteration #200 finished\n",
      "Iteration #210 finished\n",
      "Iteration #220 finished\n",
      "Iteration #230 finished\n",
      "Iteration #240 finished\n",
      "Iteration #250 finished\n",
      "Iteration #260 finished\n",
      "Iteration #270 finished\n",
      "Iteration #280 finished\n",
      "Iteration #290 finished\n",
      "Iteration #300 finished\n",
      "Iteration #310 finished\n",
      "Iteration #320 finished\n",
      "Iteration #330 finished\n",
      "Iteration #340 finished\n",
      "Iteration #350 finished\n",
      "Iteration #360 finished\n",
      "Iteration #370 finished\n",
      "Iteration #380 finished\n",
      "Iteration #390 finished\n",
      "Iteration #400 finished\n",
      "Iteration #410 finished\n",
      "Iteration #420 finished\n",
      "Iteration #430 finished\n",
      "Iteration #440 finished\n",
      "Iteration #450 finished\n",
      "Iteration #460 finished\n",
      "Iteration #470 finished\n",
      "Iteration #480 finished\n",
      "Iteration #490 finished\n",
      "Iteration #500 finished\n",
      "Iteration #510 finished\n",
      "Iteration #520 finished\n",
      "Iteration #530 finished\n",
      "Iteration #540 finished\n",
      "Iteration #550 finished\n",
      "Iteration #560 finished\n",
      "Iteration #570 finished\n",
      "Iteration #580 finished\n",
      "Iteration #590 finished\n",
      "Iteration #600 finished\n",
      "Iteration #610 finished\n",
      "Iteration #620 finished\n",
      "Iteration #630 finished\n",
      "Iteration #640 finished\n",
      "Iteration #650 finished\n",
      "Iteration #660 finished\n",
      "Iteration #670 finished\n",
      "Iteration #680 finished\n",
      "Iteration #690 finished\n",
      "Iteration #700 finished\n",
      "Iteration #710 finished\n",
      "Iteration #720 finished\n",
      "Iteration #730 finished\n",
      "Iteration #740 finished\n",
      "Iteration #750 finished\n",
      "Iteration #760 finished\n",
      "Iteration #770 finished\n",
      "Iteration #780 finished\n",
      "Iteration #790 finished\n",
      "Iteration #800 finished\n",
      "Iteration #810 finished\n",
      "Iteration #820 finished\n",
      "Iteration #830 finished\n",
      "Iteration #840 finished\n",
      "Iteration #850 finished\n",
      "Iteration #860 finished\n",
      "Iteration #870 finished\n",
      "Iteration #880 finished\n",
      "Iteration #890 finished\n",
      "Iteration #900 finished\n",
      "Iteration #910 finished\n",
      "Iteration #920 finished\n",
      "Iteration #930 finished\n",
      "Iteration #940 finished\n",
      "Iteration #950 finished\n",
      "Iteration #960 finished\n",
      "Iteration #970 finished\n",
      "Iteration #980 finished\n",
      "Iteration #990 finished\n",
      "Iteration #1000 finished\n",
      "Iteration #1010 finished\n",
      "Iteration #1020 finished\n",
      "Iteration #1030 finished\n",
      "Iteration #1040 finished\n",
      "Iteration #1050 finished\n",
      "Iteration #1060 finished\n",
      "Iteration #1070 finished\n",
      "Iteration #1080 finished\n",
      "Iteration #1090 finished\n",
      "Iteration #1100 finished\n",
      "Iteration #1110 finished\n",
      "Iteration #1120 finished\n",
      "Iteration #1130 finished\n",
      "Iteration #1140 finished\n",
      "Iteration #1150 finished\n",
      "Iteration #1160 finished\n",
      "Iteration #1170 finished\n",
      "Iteration #1180 finished\n",
      "Iteration #1190 finished\n",
      "Iteration #1200 finished\n",
      "Iteration #1210 finished\n",
      "Iteration #1220 finished\n",
      "Iteration #1230 finished\n",
      "Iteration #1240 finished\n",
      "Iteration #1250 finished\n",
      "Iteration #1260 finished\n",
      "Iteration #1270 finished\n",
      "Iteration #1280 finished\n",
      "Iteration #1290 finished\n",
      "Iteration #1300 finished\n",
      "Iteration #1310 finished\n",
      "Iteration #1320 finished\n",
      "Iteration #1330 finished\n",
      "Iteration #1340 finished\n",
      "Iteration #1350 finished\n",
      "Iteration #1360 finished\n",
      "Iteration #1370 finished\n",
      "Iteration #1380 finished\n",
      "Iteration #1390 finished\n",
      "Iteration #1400 finished\n",
      "Iteration #1410 finished\n",
      "Iteration #1420 finished\n",
      "Iteration #1430 finished\n",
      "Iteration #1440 finished\n",
      "Iteration #1450 finished\n",
      "Iteration #1460 finished\n",
      "Iteration #1470 finished\n",
      "Iteration #1480 finished\n",
      "Iteration #1490 finished\n",
      "Iteration #1500 finished\n",
      "Iteration #1510 finished\n",
      "Iteration #1520 finished\n",
      "Iteration #1530 finished\n",
      "Iteration #1540 finished\n",
      "Iteration #1550 finished\n",
      "Iteration #1560 finished\n",
      "Iteration #1570 finished\n",
      "Iteration #1580 finished\n",
      "Iteration #1590 finished\n",
      "Iteration #1600 finished\n",
      "Iteration #1610 finished\n",
      "Iteration #1620 finished\n",
      "Iteration #1630 finished\n",
      "Iteration #1640 finished\n",
      "Iteration #1650 finished\n",
      "Iteration #1660 finished\n",
      "Iteration #1670 finished\n",
      "Iteration #1680 finished\n",
      "Iteration #1690 finished\n",
      "Iteration #1700 finished\n",
      "Iteration #1710 finished\n",
      "Iteration #1720 finished\n",
      "Iteration #1730 finished\n",
      "Iteration #1740 finished\n",
      "Iteration #1750 finished\n",
      "Iteration #1760 finished\n",
      "Iteration #1770 finished\n",
      "Iteration #1780 finished\n",
      "Iteration #1790 finished\n",
      "Iteration #1800 finished\n",
      "Iteration #1810 finished\n",
      "Iteration #1820 finished\n",
      "Iteration #1830 finished\n",
      "Iteration #1840 finished\n",
      "Iteration #1850 finished\n",
      "Iteration #1860 finished\n",
      "Iteration #1870 finished\n",
      "Iteration #1880 finished\n",
      "Iteration #1890 finished\n",
      "Iteration #1900 finished\n",
      "Iteration #1910 finished\n",
      "Iteration #1920 finished\n",
      "Iteration #1930 finished\n",
      "Iteration #1940 finished\n",
      "Iteration #1950 finished\n",
      "Iteration #1960 finished\n",
      "Iteration #1970 finished\n",
      "Iteration #1980 finished\n",
      "Iteration #1990 finished\n",
      "Theta_0, Theta_1, Theta_2, Theta_3 =  [5.04016853e-17] [0.76076747] [0.02724792] [-0.14376934]\n"
     ]
    }
   ],
   "source": [
    "## 2\n",
    "[theta, cost] = gradientMethod(X,y, 0.01, 2000)\n",
    "print(\"Theta_0, Theta_1, Theta_2, Theta_3 = \", theta[0], theta[1], theta[2], theta[3])"
   ]
  },
  {
   "cell_type": "code",
   "execution_count": 9,
   "metadata": {},
   "outputs": [
    {
     "name": "stdout",
     "output_type": "stream",
     "text": [
      "Mean absolute error = 0.46807095568398865\n",
      "Mean squared error = 0.5062064430625205\n"
     ]
    }
   ],
   "source": [
    "## 3\n",
    "X_test,y_test = load_data('./Podaci/house_test.csv', ['sqft_living', 'bedrooms', 'bathrooms', 'floors'], 'price')\n",
    "Y_test_pred = np.matmul(X_test, theta)\n",
    "print(\"Mean absolute error =\", mean_absolute_error(y_test, Y_test_pred))\n",
    "print(\"Mean squared error =\",mean_squared_error(y_test, Y_test_pred))"
   ]
  },
  {
   "cell_type": "code",
   "execution_count": 42,
   "metadata": {},
   "outputs": [
    {
     "name": "stdout",
     "output_type": "stream",
     "text": [
      "[[ 7.64202830e-01  2.35014866e-02 -1.44025010e-01 -6.66117328e-04]]\n",
      "Mean absolute error = 0.4676093139214287\n",
      "Mean squared error = 0.5052388087655263\n"
     ]
    }
   ],
   "source": [
    "## 4\n",
    "reg = LinearRegression().fit(X[:,1:],y)\n",
    "print(reg.coef_)\n",
    "Y_test_predict2 = reg.predict(X_test[:,1:])\n",
    "\n",
    "\n",
    "print(\"Mean absolute error =\", mean_absolute_error(y_test, Y_test_predict2))\n",
    "print(\"Mean squared error =\",mean_squared_error(y_test, Y_test_predict2))"
   ]
  },
  {
   "cell_type": "markdown",
   "metadata": {},
   "source": [
    "---"
   ]
  },
  {
   "cell_type": "markdown",
   "metadata": {},
   "source": [
    "## Primjer polinomne regresije\n",
    "___"
   ]
  },
  {
   "cell_type": "code",
   "execution_count": 18,
   "metadata": {},
   "outputs": [
    {
     "data": {
      "text/html": [
       "<div>\n",
       "<style scoped>\n",
       "    .dataframe tbody tr th:only-of-type {\n",
       "        vertical-align: middle;\n",
       "    }\n",
       "\n",
       "    .dataframe tbody tr th {\n",
       "        vertical-align: top;\n",
       "    }\n",
       "\n",
       "    .dataframe thead th {\n",
       "        text-align: right;\n",
       "    }\n",
       "</style>\n",
       "<table border=\"1\" class=\"dataframe\">\n",
       "  <thead>\n",
       "    <tr style=\"text-align: right;\">\n",
       "      <th></th>\n",
       "      <th>x</th>\n",
       "      <th>y</th>\n",
       "    </tr>\n",
       "  </thead>\n",
       "  <tbody>\n",
       "    <tr>\n",
       "      <th>0</th>\n",
       "      <td>5.180930</td>\n",
       "      <td>108.178571</td>\n",
       "    </tr>\n",
       "    <tr>\n",
       "      <th>1</th>\n",
       "      <td>2.813873</td>\n",
       "      <td>25.310284</td>\n",
       "    </tr>\n",
       "    <tr>\n",
       "      <th>2</th>\n",
       "      <td>3.629115</td>\n",
       "      <td>29.099405</td>\n",
       "    </tr>\n",
       "    <tr>\n",
       "      <th>3</th>\n",
       "      <td>8.439167</td>\n",
       "      <td>550.499645</td>\n",
       "    </tr>\n",
       "    <tr>\n",
       "      <th>4</th>\n",
       "      <td>2.320361</td>\n",
       "      <td>1.945666</td>\n",
       "    </tr>\n",
       "  </tbody>\n",
       "</table>\n",
       "</div>"
      ],
      "text/plain": [
       "          x           y\n",
       "0  5.180930  108.178571\n",
       "1  2.813873   25.310284\n",
       "2  3.629115   29.099405\n",
       "3  8.439167  550.499645\n",
       "4  2.320361    1.945666"
      ]
     },
     "execution_count": 18,
     "metadata": {},
     "output_type": "execute_result"
    }
   ],
   "source": [
    "## 1. Učitati podatke\n",
    "data_path = './Podaci/poly_data.csv'\n",
    "df = pd.read_csv(data_path)\n",
    "df.head()"
   ]
  },
  {
   "cell_type": "code",
   "execution_count": 19,
   "metadata": {},
   "outputs": [],
   "source": [
    "## 2. Podijeliti podatke u dva skupa\n",
    "m = df.shape[0]\n",
    "\n",
    "# df.sample(broj_podataka)\n",
    "train = df.sample(round(0.8*m))\n",
    "test = df.drop(train.index)"
   ]
  },
  {
   "cell_type": "code",
   "execution_count": 20,
   "metadata": {},
   "outputs": [],
   "source": [
    "## 3. Kreirati odgovarajuću matricu dizajna\n",
    "## Zelimo da je model funkcija htheta(x) = theta0 + theta1*x + theta2*x^2 + theta3x^3\n",
    "def load_data(df):\n",
    "    m = df.shape[0]\n",
    "    X = np.ones([m,4])\n",
    "    X[:,1] = df.to_numpy()[:,0]\n",
    "    X[:,2] = np.power(df.to_numpy()[:,0],2)\n",
    "    X[:,3] = np.power(df.to_numpy()[:,0],3)\n",
    "    Y = df.to_numpy()[:,1].reshape(m,1)\n",
    "    return X,Y"
   ]
  },
  {
   "cell_type": "code",
   "execution_count": null,
   "metadata": {},
   "outputs": [],
   "source": [
    "X, y = load_data(train)\n",
    "X_test, y_test = load_data(test)"
   ]
  },
  {
   "cell_type": "code",
   "execution_count": 21,
   "metadata": {},
   "outputs": [],
   "source": [
    "## 4. Trenirati\n",
    "[theta,cost] = gradientMethod(X,y,0.00001, 1000)\n",
    "theta"
   ]
  },
  {
   "cell_type": "code",
   "execution_count": 8,
   "metadata": {},
   "outputs": [],
   "source": [
    "## 5. Testirati\n",
    "y_pred = predict(X_test,theta)"
   ]
  },
  {
   "cell_type": "code",
   "execution_count": 28,
   "metadata": {},
   "outputs": [
    {
     "data": {
      "text/plain": [
       "array([37.8477295 , -8.1134739 ,  2.26351599,  0.59074535])"
      ]
     },
     "execution_count": 28,
     "metadata": {},
     "output_type": "execute_result"
    }
   ],
   "source": [
    "## 6. Scikit-learn\n",
    "reg = LinearRegression().fit(X, y)\n",
    "reg.coef_"
   ]
  },
  {
   "cell_type": "code",
   "execution_count": 23,
   "metadata": {},
   "outputs": [],
   "source": [
    "## 7. Grafički prikaz\n",
    "def p1(x,theta):\n",
    "    return theta[0] + theta[1]*x + theta[2]*(x**2) + theta[3]*(x**3)"
   ]
  },
  {
   "cell_type": "code",
   "execution_count": 31,
   "metadata": {},
   "outputs": [
    {
     "data": {
      "image/png": "[encoded data removed]",
      "text/plain": [
       "<Figure size 432x288 with 1 Axes>"
      ]
     },
     "metadata": {
      "needs_background": "light"
     },
     "output_type": "display_data"
    }
   ],
   "source": [
    "plt.scatter(X[:,1], y[:], color='thistle', edgecolors='gainsboro')\n",
    "x = np.arange(0.0, 10.0, 0.01)\n",
    "plt.plot(x,[p1(i,theta) for i in x ], color='mediumseagreen')\n",
    "plt.show()"
   ]
  },
  {
   "cell_type": "markdown",
   "metadata": {},
   "source": [
    "___\n",
    "## Linearna regresija - drugačiji izbor funkcije pogreške\n",
    "___\n",
    "\n",
    "Kako se ponaša model linearne regresije kada imamo stršeće vrijednosti među podacima na kojima učimo?"
   ]
  },
  {
   "cell_type": "code",
   "execution_count": 32,
   "metadata": {},
   "outputs": [],
   "source": [
    "def loss(y_prediction,y):\n",
    "    return np.sum((y_prediction-y)**2)/(2*y.shape[0])"
   ]
  },
  {
   "cell_type": "code",
   "execution_count": null,
   "metadata": {},
   "outputs": [],
   "source": [
    "xrange = np.arange(-3,3,0.001)\n",
    "yrange = map(L,xrange)\n",
    "plt.plot(xrange, list(yrange))\n",
    "plt.show()"
   ]
  },
  {
   "cell_type": "markdown",
   "metadata": {},
   "source": [
    "#### a)"
   ]
  },
  {
   "cell_type": "code",
   "execution_count": 34,
   "metadata": {},
   "outputs": [
    {
     "data": {
      "text/plain": [
       "<matplotlib.collections.PathCollection at 0x24a7b653fa0>"
      ]
     },
     "execution_count": 34,
     "metadata": {},
     "output_type": "execute_result"
    },
    {
     "data": {
      "image/png": "[encoded data removed]",
      "text/plain": [
       "<Figure size 432x288 with 1 Axes>"
      ]
     },
     "metadata": {
      "needs_background": "light"
     },
     "output_type": "display_data"
    }
   ],
   "source": [
    "X_a = np.array([1,2,3,4,5,6,7,8,9,10]).reshape(-1,1)\n",
    "y_a = np.array([1.5,2.6,3.6,4.7,5.6,6.8,7.7,8.7,9.9,10.9]).reshape(-1,1)\n",
    "plt.scatter(X_a,y_a)"
   ]
  },
  {
   "cell_type": "code",
   "execution_count": 35,
   "metadata": {},
   "outputs": [
    {
     "name": "stdout",
     "output_type": "stream",
     "text": [
      "0.2710741994490352\n"
     ]
    }
   ],
   "source": [
    "reg = LinearRegression().fit(X_a,y_a)\n",
    "loss_a = loss(reg.predict(y_a), y_a)\n",
    "print(loss_a)"
   ]
  },
  {
   "cell_type": "markdown",
   "metadata": {},
   "source": [
    "#### b)"
   ]
  },
  {
   "cell_type": "code",
   "execution_count": 37,
   "metadata": {},
   "outputs": [
    {
     "data": {
      "text/plain": [
       "<matplotlib.collections.PathCollection at 0x24a7c1f1190>"
      ]
     },
     "execution_count": 37,
     "metadata": {},
     "output_type": "execute_result"
    },
    {
     "data": {
      "image/png": "[encoded data removed]",
      "text/plain": [
       "<Figure size 432x288 with 1 Axes>"
      ]
     },
     "metadata": {
      "needs_background": "light"
     },
     "output_type": "display_data"
    }
   ],
   "source": [
    "X_b = np.array([1,2,3,4,5,6,7,8,9,10]).reshape(-1,1)\n",
    "y_b = np.array([1.5,10,3.6,4.7,5.6,6.8,15,8.7,9.9,10.9]).reshape(-1,1)\n",
    "plt.scatter(X_b,y_b)"
   ]
  },
  {
   "cell_type": "code",
   "execution_count": 38,
   "metadata": {},
   "outputs": [
    {
     "name": "stdout",
     "output_type": "stream",
     "text": [
      "1.8777200229568407\n"
     ]
    }
   ],
   "source": [
    "reg = LinearRegression().fit(X_b,y_b)\n",
    "loss_b = loss(reg.predict(y_b), y_b)\n",
    "print(loss_b)"
   ]
  },
  {
   "cell_type": "code",
   "execution_count": 39,
   "metadata": {},
   "outputs": [
    {
     "data": {
      "text/plain": [
       "6.926959580710195"
      ]
     },
     "execution_count": 39,
     "metadata": {},
     "output_type": "execute_result"
    }
   ],
   "source": [
    "# Omjer gubitaka\n",
    "loss_b/loss_a"
   ]
  },
  {
   "cell_type": "markdown",
   "metadata": {},
   "source": [
    "### Huberova regresija\n",
    "U statistici se koristi funkcija gubitka *Huber loss*, koja je robusnija na stršeće vrijednosti u odnosu na srednje kvadratno odstupanje. \n",
    "Funkcija troška se definira na sljedeći način: \n",
    "   $$ L_{\\delta}(y,h_{\\theta}(x)) = \\begin{cases}\n",
    "                            \\frac{1}{2}(y-h_{\\theta}(x))^2, \\;za\\; |y-h_{\\theta}(x)| \\leq \\delta \\\\\n",
    "                            \\delta \\cdot |y-h_{\\theta}(x)| - \\frac{1}{2}\\delta ^2, \\; inace\n",
    "                            \\end{cases} $$\n",
    "                            "
   ]
  },
  {
   "cell_type": "code",
   "execution_count": 40,
   "metadata": {},
   "outputs": [],
   "source": [
    "def L(a,delta=1):\n",
    "    if abs(a) <= delta:\n",
    "        return a**2\n",
    "    else: \n",
    "        return delta*abs(a) - 0.5*(delta**2)"
   ]
  },
  {
   "cell_type": "markdown",
   "metadata": {},
   "source": [
    "#### c)"
   ]
  },
  {
   "cell_type": "code",
   "execution_count": 41,
   "metadata": {},
   "outputs": [
    {
     "name": "stdout",
     "output_type": "stream",
     "text": [
      "95.33835249851134\n"
     ]
    }
   ],
   "source": [
    "huber = HuberRegressor().fit(X_a, y_a.reshape(-1))\n",
    "loss_a_huber = loss(huber.predict(y_a), y_a)\n",
    "print(loss_a_huber)"
   ]
  },
  {
   "cell_type": "markdown",
   "metadata": {},
   "source": [
    "#### d)"
   ]
  },
  {
   "cell_type": "code",
   "execution_count": 42,
   "metadata": {},
   "outputs": [
    {
     "name": "stdout",
     "output_type": "stream",
     "text": [
      "153.53786064754985\n"
     ]
    }
   ],
   "source": [
    "huber = HuberRegressor().fit(X_b, y_b.reshape(-1,))\n",
    "loss_b_huber = loss(huber.predict(y_b), y_b)\n",
    "print(loss_b_huber)"
   ]
  },
  {
   "cell_type": "code",
   "execution_count": 43,
   "metadata": {},
   "outputs": [
    {
     "data": {
      "text/plain": [
       "1.6104522117680529"
      ]
     },
     "execution_count": 43,
     "metadata": {},
     "output_type": "execute_result"
    }
   ],
   "source": [
    "# Omjer pogresaka\n",
    "loss_b_huber / loss_a_huber"
   ]
  },
  {
   "cell_type": "markdown",
   "metadata": {},
   "source": [
    "### \"*Veći primjer*\""
   ]
  },
  {
   "cell_type": "code",
   "execution_count": 77,
   "metadata": {},
   "outputs": [
    {
     "data": {
      "image/png": "[encoded data removed]",
      "text/plain": [
       "<Figure size 432x288 with 1 Axes>"
      ]
     },
     "metadata": {
      "needs_background": "light"
     },
     "output_type": "display_data"
    }
   ],
   "source": [
    "X_c, y_c = make_regression(n_samples = 200, n_features = 1, noise = 1)\n",
    "\n",
    "X_c[:5] = rng.uniform(10, 20, (5, 1))\n",
    "y_c[:5] = rng.uniform(10, 20, 5)\n",
    "\n",
    "plt.scatter(X_c,y_c)\n",
    "plt.show()"
   ]
  },
  {
   "cell_type": "code",
   "execution_count": 78,
   "metadata": {},
   "outputs": [],
   "source": [
    "# Linearna regresija\n",
    "reg_ = LinearRegression().fit(X_c.reshape(-1,1),y_c.reshape(-1,1))\n",
    "\n",
    "loss_reg = loss(reg_.predict(y_c.reshape(-1,1)), y_c)\n"
   ]
  },
  {
   "cell_type": "code",
   "execution_count": 79,
   "metadata": {},
   "outputs": [],
   "source": [
    "# Huber regresija\n",
    "\n",
    "hub_ = HuberRegressor().fit(X_c,y_c)\n",
    "\n",
    "loss_hub = loss(hub_.predict(y_c.reshape(-1,1)), y_c)\n"
   ]
  },
  {
   "cell_type": "code",
   "execution_count": 80,
   "metadata": {},
   "outputs": [
    {
     "data": {
      "text/plain": [
       "[<matplotlib.lines.Line2D at 0x24a7d6ba0d0>]"
      ]
     },
     "execution_count": 80,
     "metadata": {},
     "output_type": "execute_result"
    },
    {
     "data": {
      "image/png": "[encoded data removed]",
      "text/plain": [
       "<Figure size 432x288 with 1 Axes>"
      ]
     },
     "metadata": {
      "needs_background": "light"
     },
     "output_type": "display_data"
    }
   ],
   "source": [
    "plt.scatter(X_c,y_c)\n",
    "plt.plot(X_c, reg_.predict(X_c), color=\"red\")\n",
    "plt.plot(X_c, hub_.predict(X_c), color=\"green\")"
   ]
  },
  {
   "cell_type": "code",
   "execution_count": null,
   "metadata": {},
   "outputs": [],
   "source": []
  }
 ],
 "metadata": {
  "kernelspec": {
   "display_name": "Python 3",
   "language": "python",
   "name": "python3"
  },
  "language_info": {
   "codemirror_mode": {
    "name": "ipython",
    "version": 3
   },
   "file_extension": ".py",
   "mimetype": "text/x-python",
   "name": "python",
   "nbconvert_exporter": "python",
   "pygments_lexer": "ipython3",
   "version": "3.8.3"
  }
 },
 "nbformat": 4,
 "nbformat_minor": 4
}
